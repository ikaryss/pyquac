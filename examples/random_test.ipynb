{
 "cells": [
  {
   "cell_type": "code",
   "execution_count": 1,
   "metadata": {},
   "outputs": [],
   "source": [
    "from random_example import Random_spectroscopy\n",
    "from pyquac.fmn_plottools import Heatmap, Dash_app\n",
    "import numpy as np\n",
    "import pandas as pd\n",
    "import matplotlib.pyplot as plt\n"
   ]
  },
  {
   "cell_type": "markdown",
   "metadata": {},
   "source": [
    "## core functions\n"
   ]
  },
  {
   "cell_type": "code",
   "execution_count": 2,
   "metadata": {},
   "outputs": [],
   "source": [
    "# Create new instance of spectroscopy class\n",
    "y_arr = np.linspace(4e9, 5e9, 401)\n",
    "x_arr = np.linspace(-1, 1, 101)\n",
    "\n",
    "data = Random_spectroscopy(x_arr=x_arr, y_arr=y_arr)\n"
   ]
  },
  {
   "cell_type": "code",
   "execution_count": 3,
   "metadata": {},
   "outputs": [],
   "source": [
    "# create a figure with specific properties and connect it to our app\n",
    "figure = Heatmap.plot_figure(\n",
    "    data.get_result(), logo=True, sub_title=\"some info\", cmap=\"rdylbu\"\n",
    ")"
   ]
  },
  {
   "cell_type": "code",
   "execution_count": 5,
   "metadata": {},
   "outputs": [
    {
     "data": {
      "text/html": [
       "\n",
       "        <iframe\n",
       "            width=\"100%\"\n",
       "            height=\"650\"\n",
       "            src=\"http://127.0.0.1:2022/\"\n",
       "            frameborder=\"0\"\n",
       "            allowfullscreen\n",
       "            \n",
       "        ></iframe>\n",
       "        "
      ],
      "text/plain": [
       "<IPython.lib.display.IFrame at 0x7f9811771ee0>"
      ]
     },
     "metadata": {},
     "output_type": "display_data"
    }
   ],
   "source": [
    "# app configure.\n",
    "# uncheck the stop live update to see the heatmap filling in real time\n",
    "app = Dash_app(data, figure, qubit_id=1, chip_id=2)\n",
    "app.configure_app(mode=\"inline\", port=2022, interval=1000)\n"
   ]
  },
  {
   "cell_type": "markdown",
   "metadata": {},
   "source": [
    "### Running measurements\n"
   ]
  },
  {
   "cell_type": "code",
   "execution_count": 6,
   "metadata": {},
   "outputs": [],
   "source": [
    "# measuring of specific x or y values\n",
    "# data.run_measurements(x_key=[-0.5, 0, .5], sleep=1e-3)\n",
    "\n",
    "# measuring the range of values within the X and Y coordinates\n",
    "data.run_measurements(x_min=0.1, y_min=4.2e9, sleep=1e-3)\n",
    "\n",
    "# measuring all data\n",
    "# data.run_measurements()\n"
   ]
  },
  {
   "cell_type": "markdown",
   "metadata": {},
   "source": [
    "### Deleting measurements\n"
   ]
  },
  {
   "cell_type": "code",
   "execution_count": 7,
   "metadata": {},
   "outputs": [],
   "source": [
    "# Deleting the range of values within the X and Y coordinates\n",
    "data.drop(x_min=-0.5, y_min=4.4e9, y_max=4.6e9)\n",
    "\n",
    "# Deleting specific X or Y axis data\n",
    "# data.drop(x=-0.9)\n",
    "\n",
    "# Deleting all data\n",
    "# data.cls()\n"
   ]
  },
  {
   "cell_type": "markdown",
   "metadata": {},
   "source": [
    "### Get result dataframe\n"
   ]
  },
  {
   "cell_type": "code",
   "execution_count": 8,
   "metadata": {},
   "outputs": [
    {
     "data": {
      "text/html": [
       "<div>\n",
       "<style scoped>\n",
       "    .dataframe tbody tr th:only-of-type {\n",
       "        vertical-align: middle;\n",
       "    }\n",
       "\n",
       "    .dataframe tbody tr th {\n",
       "        vertical-align: top;\n",
       "    }\n",
       "\n",
       "    .dataframe thead th {\n",
       "        text-align: right;\n",
       "    }\n",
       "</style>\n",
       "<table border=\"1\" class=\"dataframe\">\n",
       "  <thead>\n",
       "    <tr style=\"text-align: right;\">\n",
       "      <th></th>\n",
       "      <th>x_value</th>\n",
       "      <th>y_value</th>\n",
       "      <th>z_value</th>\n",
       "    </tr>\n",
       "  </thead>\n",
       "  <tbody>\n",
       "    <tr>\n",
       "      <th>0</th>\n",
       "      <td>-1.0</td>\n",
       "      <td>4.000000e+09</td>\n",
       "      <td>NaN</td>\n",
       "    </tr>\n",
       "    <tr>\n",
       "      <th>1</th>\n",
       "      <td>-1.0</td>\n",
       "      <td>4.002500e+09</td>\n",
       "      <td>NaN</td>\n",
       "    </tr>\n",
       "    <tr>\n",
       "      <th>2</th>\n",
       "      <td>-1.0</td>\n",
       "      <td>4.005000e+09</td>\n",
       "      <td>NaN</td>\n",
       "    </tr>\n",
       "    <tr>\n",
       "      <th>3</th>\n",
       "      <td>-1.0</td>\n",
       "      <td>4.007500e+09</td>\n",
       "      <td>NaN</td>\n",
       "    </tr>\n",
       "    <tr>\n",
       "      <th>4</th>\n",
       "      <td>-1.0</td>\n",
       "      <td>4.010000e+09</td>\n",
       "      <td>NaN</td>\n",
       "    </tr>\n",
       "    <tr>\n",
       "      <th>...</th>\n",
       "      <td>...</td>\n",
       "      <td>...</td>\n",
       "      <td>...</td>\n",
       "    </tr>\n",
       "    <tr>\n",
       "      <th>40496</th>\n",
       "      <td>1.0</td>\n",
       "      <td>4.990000e+09</td>\n",
       "      <td>0.335524</td>\n",
       "    </tr>\n",
       "    <tr>\n",
       "      <th>40497</th>\n",
       "      <td>1.0</td>\n",
       "      <td>4.992500e+09</td>\n",
       "      <td>0.753020</td>\n",
       "    </tr>\n",
       "    <tr>\n",
       "      <th>40498</th>\n",
       "      <td>1.0</td>\n",
       "      <td>4.995000e+09</td>\n",
       "      <td>0.648292</td>\n",
       "    </tr>\n",
       "    <tr>\n",
       "      <th>40499</th>\n",
       "      <td>1.0</td>\n",
       "      <td>4.997500e+09</td>\n",
       "      <td>0.791518</td>\n",
       "    </tr>\n",
       "    <tr>\n",
       "      <th>40500</th>\n",
       "      <td>1.0</td>\n",
       "      <td>5.000000e+09</td>\n",
       "      <td>0.316111</td>\n",
       "    </tr>\n",
       "  </tbody>\n",
       "</table>\n",
       "<p>40501 rows × 3 columns</p>\n",
       "</div>"
      ],
      "text/plain": [
       "       x_value       y_value   z_value\n",
       "0         -1.0  4.000000e+09       NaN\n",
       "1         -1.0  4.002500e+09       NaN\n",
       "2         -1.0  4.005000e+09       NaN\n",
       "3         -1.0  4.007500e+09       NaN\n",
       "4         -1.0  4.010000e+09       NaN\n",
       "...        ...           ...       ...\n",
       "40496      1.0  4.990000e+09  0.335524\n",
       "40497      1.0  4.992500e+09  0.753020\n",
       "40498      1.0  4.995000e+09  0.648292\n",
       "40499      1.0  4.997500e+09  0.791518\n",
       "40500      1.0  5.000000e+09  0.316111\n",
       "\n",
       "[40501 rows x 3 columns]"
      ]
     },
     "execution_count": 8,
     "metadata": {},
     "output_type": "execute_result"
    }
   ],
   "source": [
    "# Base dataframe\n",
    "# you can set imshow = True for matplotlib plot\n",
    "# plt.pcolormesh(data.get_result(imshow=True))\n",
    "data.get_result()\n"
   ]
  },
  {
   "cell_type": "markdown",
   "metadata": {},
   "source": [
    "### Peak detection\n"
   ]
  },
  {
   "cell_type": "code",
   "execution_count": 9,
   "metadata": {},
   "outputs": [
    {
     "data": {
      "text/html": [
       "<div>\n",
       "<style scoped>\n",
       "    .dataframe tbody tr th:only-of-type {\n",
       "        vertical-align: middle;\n",
       "    }\n",
       "\n",
       "    .dataframe tbody tr th {\n",
       "        vertical-align: top;\n",
       "    }\n",
       "\n",
       "    .dataframe thead th {\n",
       "        text-align: right;\n",
       "    }\n",
       "</style>\n",
       "<table border=\"1\" class=\"dataframe\">\n",
       "  <thead>\n",
       "    <tr style=\"text-align: right;\">\n",
       "      <th></th>\n",
       "      <th>currents</th>\n",
       "      <th>frequencies</th>\n",
       "      <th>response</th>\n",
       "    </tr>\n",
       "  </thead>\n",
       "  <tbody>\n",
       "    <tr>\n",
       "      <th>0</th>\n",
       "      <td>-3.0</td>\n",
       "      <td>6.275000e+09</td>\n",
       "      <td>-61.128872</td>\n",
       "    </tr>\n",
       "    <tr>\n",
       "      <th>1</th>\n",
       "      <td>-3.0</td>\n",
       "      <td>6.275025e+09</td>\n",
       "      <td>-61.489191</td>\n",
       "    </tr>\n",
       "    <tr>\n",
       "      <th>2</th>\n",
       "      <td>-3.0</td>\n",
       "      <td>6.275050e+09</td>\n",
       "      <td>-61.044796</td>\n",
       "    </tr>\n",
       "    <tr>\n",
       "      <th>3</th>\n",
       "      <td>-3.0</td>\n",
       "      <td>6.275075e+09</td>\n",
       "      <td>-61.181111</td>\n",
       "    </tr>\n",
       "    <tr>\n",
       "      <th>4</th>\n",
       "      <td>-3.0</td>\n",
       "      <td>6.275100e+09</td>\n",
       "      <td>-61.166323</td>\n",
       "    </tr>\n",
       "    <tr>\n",
       "      <th>...</th>\n",
       "      <td>...</td>\n",
       "      <td>...</td>\n",
       "      <td>...</td>\n",
       "    </tr>\n",
       "    <tr>\n",
       "      <th>40496</th>\n",
       "      <td>3.0</td>\n",
       "      <td>6.284900e+09</td>\n",
       "      <td>-58.811853</td>\n",
       "    </tr>\n",
       "    <tr>\n",
       "      <th>40497</th>\n",
       "      <td>3.0</td>\n",
       "      <td>6.284925e+09</td>\n",
       "      <td>-58.616121</td>\n",
       "    </tr>\n",
       "    <tr>\n",
       "      <th>40498</th>\n",
       "      <td>3.0</td>\n",
       "      <td>6.284950e+09</td>\n",
       "      <td>-58.733909</td>\n",
       "    </tr>\n",
       "    <tr>\n",
       "      <th>40499</th>\n",
       "      <td>3.0</td>\n",
       "      <td>6.284975e+09</td>\n",
       "      <td>-58.747148</td>\n",
       "    </tr>\n",
       "    <tr>\n",
       "      <th>40500</th>\n",
       "      <td>3.0</td>\n",
       "      <td>6.285000e+09</td>\n",
       "      <td>-58.715434</td>\n",
       "    </tr>\n",
       "  </tbody>\n",
       "</table>\n",
       "<p>40501 rows × 3 columns</p>\n",
       "</div>"
      ],
      "text/plain": [
       "       currents   frequencies   response\n",
       "0          -3.0  6.275000e+09 -61.128872\n",
       "1          -3.0  6.275025e+09 -61.489191\n",
       "2          -3.0  6.275050e+09 -61.044796\n",
       "3          -3.0  6.275075e+09 -61.181111\n",
       "4          -3.0  6.275100e+09 -61.166323\n",
       "...         ...           ...        ...\n",
       "40496       3.0  6.284900e+09 -58.811853\n",
       "40497       3.0  6.284925e+09 -58.616121\n",
       "40498       3.0  6.284950e+09 -58.733909\n",
       "40499       3.0  6.284975e+09 -58.747148\n",
       "40500       3.0  6.285000e+09 -58.715434\n",
       "\n",
       "[40501 rows x 3 columns]"
      ]
     },
     "execution_count": 9,
     "metadata": {},
     "output_type": "execute_result"
    }
   ],
   "source": [
    "# Load example file\n",
    "file = pd.read_csv(\"example_data.csv\")\n",
    "file\n"
   ]
  },
  {
   "cell_type": "code",
   "execution_count": 10,
   "metadata": {},
   "outputs": [],
   "source": [
    "# create new instance\n",
    "data_example = Random_spectroscopy(\n",
    "    x_min=file.currents.min(),\n",
    "    x_max=file.currents.max(),\n",
    "    x_step=0.06,\n",
    "    y_min=file.frequencies.min(),\n",
    "    y_max=file.frequencies.max(),\n",
    "    y_step=file.frequencies[1] - file.frequencies[0],\n",
    ")\n",
    "\n",
    "# load data to instance\n",
    "data_example.load_data(\n",
    "    \"example_data.csv\",\n",
    "    x_col_name=\"currents\",\n",
    "    y_col_name=\"frequencies\",\n",
    "    z_col_name=\"response\",\n",
    ")\n"
   ]
  },
  {
   "cell_type": "code",
   "execution_count": 11,
   "metadata": {},
   "outputs": [],
   "source": [
    "# create some figure\n",
    "figure = Heatmap.plot_figure(\n",
    "    data_example.get_result(),\n",
    "    logo=True,\n",
    "    sub_title=\"this is an example data\",\n",
    "    cmap=\"rdylbu\",\n",
    "    title=\"Single Tone Spectroscopy\",\n",
    ")\n"
   ]
  },
  {
   "cell_type": "code",
   "execution_count": 12,
   "metadata": {},
   "outputs": [
    {
     "data": {
      "text/html": [
       "\n",
       "        <iframe\n",
       "            width=\"100%\"\n",
       "            height=\"650\"\n",
       "            src=\"http://127.0.0.1:4041/\"\n",
       "            frameborder=\"0\"\n",
       "            allowfullscreen\n",
       "            \n",
       "        ></iframe>\n",
       "        "
      ],
      "text/plain": [
       "<IPython.lib.display.IFrame at 0x7f98026bc490>"
      ]
     },
     "metadata": {},
     "output_type": "display_data"
    }
   ],
   "source": [
    "# create app\n",
    "# uncheck the stop live update to see the heatmap filling in real time\n",
    "app = Dash_app(data_example, figure, qubit_id=1, chip_id=2)\n",
    "app.configure_app(mode=\"inline\", port=4041, interval=1000)\n"
   ]
  },
  {
   "cell_type": "code",
   "execution_count": 13,
   "metadata": {},
   "outputs": [],
   "source": [
    "# Lets check how peak detection is working\n",
    "peak_line = data_example.xyz_peak(thres=0.7, min_dist=75, n_last=20)\n"
   ]
  },
  {
   "cell_type": "code",
   "execution_count": 14,
   "metadata": {},
   "outputs": [
    {
     "name": "stdout",
     "output_type": "stream",
     "text": [
      "the fit of the curve is made at the following points\n",
      "x [-2.4  0.   2.4]\n",
      "y [6.280275e+09 6.280425e+09 6.280150e+09]\n"
     ]
    }
   ],
   "source": [
    "# Lets delete most data to check how approximation works\n",
    "cols_to_del = data_example.x_list[\n",
    "    np.isin(data_example.x_list, [-2.4, 0, 2.4], invert=True)\n",
    "]\n",
    "data_example.drop(x=cols_to_del)\n",
    "\n",
    "# data approximation\n",
    "print(\"the fit of the curve is made at the following points\")\n",
    "line = data_example.approximate(\n",
    "    poly_nop=1000,\n",
    "    resolving_zone=0.1,\n",
    "    x_key=None,\n",
    "    thres=0.7,\n",
    "    min_dist=75,\n",
    "    n_last=20,\n",
    "    deg=2,\n",
    "    fillna=False,\n",
    ")[\"poly_line\"]\n"
   ]
  },
  {
   "cell_type": "code",
   "execution_count": 15,
   "metadata": {},
   "outputs": [
    {
     "data": {
      "image/png": "[encoded data removed]",
      "text/plain": [
       "<Figure size 720x720 with 1 Axes>"
      ]
     },
     "metadata": {
      "needs_background": "light"
     },
     "output_type": "display_data"
    }
   ],
   "source": [
    "plt.figure(figsize=(10, 10))\n",
    "plt.plot(peak_line[0], peak_line[1], linewidth=3, label=\"peak line\")\n",
    "plt.plot(\n",
    "    line[\"x\"],\n",
    "    line[\"y\"],\n",
    "    linewidth=3,\n",
    "    color=\"black\",\n",
    "    linestyle=\"--\",\n",
    "    label=\"approximation line\",\n",
    ")\n",
    "plt.ylim([data_example.y_min, data_example.y_max])\n",
    "plt.xlim([data_example.x_min, data_example.x_max])\n",
    "plt.xlabel(\"Voltage offset\", size=13)\n",
    "plt.ylabel(\"Frequencies, GHz\", size=13)\n",
    "plt.legend()\n",
    "plt.grid()\n"
   ]
  }
 ],
 "metadata": {
  "kernelspec": {
   "display_name": "Python 3 (ipykernel)",
   "language": "python",
   "name": "python3"
  },
  "language_info": {
   "codemirror_mode": {
    "name": "ipython",
    "version": 3
   },
   "file_extension": ".py",
   "mimetype": "text/x-python",
   "name": "python",
   "nbconvert_exporter": "python",
   "pygments_lexer": "ipython3",
   "version": "3.9.13"
  },
  "vscode": {
   "interpreter": {
    "hash": "3f9a5ad7a37e9eacd33583ea9d7fe10a776b0cc51d157580353e4e2443901cdc"
   }
  }
 },
 "nbformat": 4,
 "nbformat_minor": 2
}
